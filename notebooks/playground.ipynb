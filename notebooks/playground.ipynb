{
 "cells": [
  {
   "cell_type": "code",
   "execution_count": 78,
   "metadata": {},
   "outputs": [],
   "source": [
    "import requests\n",
    "from bs4 import BeautifulSoup\n",
    "import pandas as pd\n",
    "import csv\n",
    "import re\n",
    "import sqlite3\n"
   ]
  },
  {
   "cell_type": "code",
   "execution_count": 79,
   "metadata": {},
   "outputs": [],
   "source": [
    "skill_list = [\n",
    "\t{'id': 1, 'skill_name': 'sword'},\n",
    "\t{'id': 2, 'skill_name': 'dagger'},\n",
    "\t{'id': 3, 'skill_name': 'axe'},\n",
    "\t{'id': 4, 'skill_name': 'spear'},\n",
    "\t{'id': 5, 'skill_name': 'mace'},\n",
    "\t{'id': 6, 'skill_name': 'staff'},\n",
    "\t{'id': 7, 'skill_name': 'bow'},\n",
    "\t{'id': 8, 'skill_name': 'unarmed'},\n",
    "\t{'id': 9, 'skill_name': 'blaster'},\n",
    "\t{'id': 10, 'skill_name': 'leather'},\n",
    "\t{'id': 11, 'skill_name': 'chain'},\n",
    "\t{'id': 12, 'skill_name': 'plate'},\n",
    "\t{'id': 13, 'skill_name': 'dodging'},\n",
    "\t{'id': 14, 'skill_name': 'shield'},\n",
    "\t{'id': 15, 'skill_name': 'fire'},\n",
    "\t{'id': 16, 'skill_name': 'air'},\n",
    "\t{'id': 17, 'skill_name': 'water'},\n",
    "\t{'id': 18, 'skill_name': 'earth'},\n",
    "\t{'id': 19, 'skill_name': 'spirit'},\n",
    "\t{'id': 20, 'skill_name': 'mind'},\n",
    "\t{'id': 21, 'skill_name': 'body'},\n",
    "\t{'id': 22, 'skill_name': 'light'},\n",
    "\t{'id': 23, 'skill_name': 'dark'},\n",
    "\t{'id': 24, 'skill_name': 'dark elf'},\n",
    "\t{'id': 25, 'skill_name': 'vampire'},\n",
    "\t{'id': 26, 'skill_name': 'dragon'},\n",
    "\t{'id': 27, 'skill_name': 'ID item'},\n",
    "\t{'id': 28, 'skill_name': 'merchant'},\n",
    "\t{'id': 29, 'skill_name': 'repair'},\n",
    "\t{'id': 30, 'skill_name': 'bodybuilding'},\n",
    "\t{'id': 31, 'skill_name': 'meditation'},\n",
    "\t{'id': 32, 'skill_name': 'perception'},\n",
    "\t{'id': 33, 'skill_name': 'alchemy'},\n",
    "\t{'id': 34, 'skill_name': 'disarm trap'},\n",
    "\t{'id': 35, 'skill_name': 'ID monster'},\n",
    "\t{'id': 36, 'skill_name': 'ascension'},\n",
    "\t{'id': 37, 'skill_name': 'armsmaster'},\n",
    "\t{'id': 38, 'skill_name': 'stealing'},\n",
    "\t{'id': 39, 'skill_name': 'regeneration'},\n",
    "]"
   ]
  },
  {
   "cell_type": "code",
   "execution_count": 80,
   "metadata": {},
   "outputs": [
    {
     "name": "stdout",
     "output_type": "stream",
     "text": [
      "Connected to C:\\Users\\Shougo Matsumoto\\python-projects\\API test\\data\\MM.db\n"
     ]
    }
   ],
   "source": [
    "db_file_path = r'C:\\Users\\Shougo Matsumoto\\python-projects\\API test\\data\\MM.db'\n",
    "\n",
    "if db_file_path:\n",
    "\n",
    "\tconn = sqlite3.connect(db_file_path)\n",
    "\n",
    "\tcursor = conn.cursor()\n",
    "\n",
    "\tprint(f\"Connected to {db_file_path}\")\n",
    "\n",
    "else:\n",
    "\n",
    "\tprint(\"No file selected\")"
   ]
  },
  {
   "cell_type": "code",
   "execution_count": 83,
   "metadata": {},
   "outputs": [],
   "source": [
    "for skill in skill_list:\n",
    "\tcursor.execute('''\n",
    "\t\t\t\t   INSERT INTO code_skill (id, skill_name)\n",
    "\t\t\t\t   VALUES (:id, :skill_name)\n",
    "\t''', skill)"
   ]
  },
  {
   "cell_type": "code",
   "execution_count": 70,
   "metadata": {},
   "outputs": [],
   "source": [
    "base_urls = ['http://tinypink.jog.client.jp/{}/Map/Menu.html'.format(i) for i in range(6, 9)]"
   ]
  },
  {
   "cell_type": "code",
   "execution_count": 71,
   "metadata": {},
   "outputs": [],
   "source": [
    "series_pattern = re.compile(r'/(\\w+)/Map')\n",
    "name_pattern = re.compile(r'(.+)/Menu')\n",
    "# parenthesis_pattern = re.compile(r'(')"
   ]
  },
  {
   "cell_type": "code",
   "execution_count": 72,
   "metadata": {},
   "outputs": [],
   "source": [
    "town_info_list = []\n",
    "id_number = 1\n",
    "\n",
    "for url in base_urls:    \n",
    "\n",
    "\tresponse = requests.get(url)\n",
    "\n",
    "\tsoup = BeautifulSoup(response.content, 'lxml')\n",
    "\n",
    "\tfor town_name in soup.select('h2'):\n",
    "\n",
    "\t\ttown_info = {'series': None, 'name': None, 'name_jp': None}\n",
    "\n",
    "\t\ttown_info['series'] = re.findall(series_pattern, url)[0]\n",
    "\t\ttry:\n",
    "\n",
    "\t\t\ttown_info['name'] = re.findall(name_pattern, town_name.select_one('a')['href'])[0]\n",
    "\t\texcept IndexError:\n",
    "\t\t\ttown_info['name'] = 'PlaneOfEarth'\n",
    "\t\ttown_info['name_jp'] = re.sub(r'\\(.+\\)', '', town_name.select_one('a').text)\n",
    "\n",
    "\t\ttown_info['id'] = id_number\n",
    "\t\tid_number += 1\n",
    "\n",
    "\t\ttown_info_list.append(town_info)"
   ]
  },
  {
   "cell_type": "code",
   "execution_count": 73,
   "metadata": {},
   "outputs": [],
   "source": [
    "for info in town_info_list:\n",
    "\tcursor.execute('''\n",
    "\t\t\t\t   INSERT INTO code_town (id, series, name, name_jp)\n",
    "\t\t\t\t   VALUES (:id, :series, :name, :name_jp)\n",
    "\t''', info)"
   ]
  },
  {
   "cell_type": "code",
   "execution_count": 84,
   "metadata": {},
   "outputs": [],
   "source": [
    "conn.commit()"
   ]
  },
  {
   "cell_type": "code",
   "execution_count": 85,
   "metadata": {},
   "outputs": [],
   "source": [
    "conn.close()"
   ]
  },
  {
   "cell_type": "code",
   "execution_count": 11,
   "metadata": {},
   "outputs": [],
   "source": [
    "import requests\n",
    "from bs4 import BeautifulSoup\n",
    "import pandas as pd\n",
    "import io\n",
    "\n",
    "url_list = ['http://tinypink.jog.client.jp/{}/Data/Teacher.html'.format(i) for i in range(6, 9)]\n",
    "df_list = []\n",
    "jpname_list = [\n",
    "    '長剣',\n",
    "    '短剣',\n",
    "    '斧',\n",
    "    '槍',\n",
    "    'メイス',\n",
    "    '杖',\n",
    "    '弓',\n",
    "    '格闘',\n",
    "    'ブラスター',\n",
    "    'レザー',\n",
    "    'チェイン',\n",
    "    'プレート',\n",
    "    '回避',\n",
    "    '盾',\n",
    "    '炎の魔法',\n",
    "    '風の魔法',\n",
    "    '水の魔法',\n",
    "    '地の魔法',\n",
    "    '心霊魔法',\n",
    "    '精神魔法',\n",
    "    '肉体魔法',\n",
    "    '光の魔法',\n",
    "    '闇の魔法',\n",
    "    'ダークエルフ',\n",
    "    'ヴァンパイア',\n",
    "    'ドラゴン',\n",
    "    'アイテム鑑定',\n",
    "    '取引',\n",
    "    '修復',\n",
    "    'ボディービル',\n",
    "    '瞑想',\n",
    "    '知覚',\n",
    "    '錬金術',\n",
    "    '解除',\n",
    "    'モンスター識別',\n",
    "    '習得',\n",
    "    '修練',\n",
    "    '窃盗',\n",
    "    '再生',\n",
    "    '鑑定',\n",
    "    '交渉',\n",
    "]\n",
    "enname_list = [\n",
    "    'sword',\n",
    "    'dagger',\n",
    "    'axe',\n",
    "    'spear',\n",
    "    'mace',\n",
    "    'staff',\n",
    "    'bow',\n",
    "    'unarmed',\n",
    "    'blaster',\n",
    "    'leather',\n",
    "    'chain',\n",
    "    'plate',\n",
    "    'dodging',\n",
    "    'shield',\n",
    "    'fire',\n",
    "    'air',\n",
    "    'water',\n",
    "    'earth',\n",
    "    'spirit',\n",
    "    'mind',\n",
    "    'body',\n",
    "    'light',\n",
    "    'dark',\n",
    "    'dark elf',\n",
    "    'vampire',\n",
    "    'dragon',\n",
    "    'ID item',\n",
    "    'merchant',\n",
    "    'repair',\n",
    "    'bodybuilding',\n",
    "    'meditation',\n",
    "    'perception',\n",
    "    'alchemy',\n",
    "    'disarm trap',\n",
    "    'ID monster',\n",
    "    'ascension',\n",
    "    'armsmaster',\n",
    "    'stealing',\n",
    "    'regeneration',\n",
    "    'ID item',\n",
    "    'alchemy',\n",
    "]"
   ]
  },
  {
   "cell_type": "code",
   "execution_count": 16,
   "metadata": {},
   "outputs": [
    {
     "name": "stderr",
     "output_type": "stream",
     "text": [
      "C:\\Users\\Shougo Matsumoto\\AppData\\Local\\Temp\\ipykernel_14116\\315937587.py:11: UserWarning:\n",
      "\n",
      "This pattern is interpreted as a regular expression, and has match groups. To actually get the groups, use str.extract.\n",
      "\n"
     ]
    }
   ],
   "source": [
    "\n",
    "\n",
    "# 6\n",
    "response = requests.get(url_list[0])\n",
    "soup = BeautifulSoup(response.content, 'html.parser')\n",
    "table = soup.select('table')[1]\n",
    "df = pd.read_html(io.StringIO(str((table))))[0]\n",
    "df.columns = df.iloc[0] # ヘッダーを設定\n",
    "df = df[1:]  # 1行目を削除\n",
    "df.columns.values[0] = 'skill_name'\n",
    "df.columns.values[1] = 'proficiency_level'\n",
    "#df.columns.values[2] = 'town'\n",
    "df = df[~df['skill_name'].str.contains(r'(削除)')]\n",
    "df_6 = df.drop(columns=['技能Lv', '条件', '料金'])\n",
    "df_list.append(df_6)"
   ]
  },
  {
   "cell_type": "code",
   "execution_count": 3,
   "metadata": {},
   "outputs": [
    {
     "name": "stderr",
     "output_type": "stream",
     "text": [
      "C:\\Users\\Shougo Matsumoto\\AppData\\Local\\Temp\\ipykernel_14116\\2631456299.py:4: FutureWarning: Passing literal html to 'read_html' is deprecated and will be removed in a future version. To read from a literal string, wrap it in a 'StringIO' object.\n",
      "  df = pd.read_html(str(table))[0]\n",
      "C:\\Users\\Shougo Matsumoto\\AppData\\Local\\Temp\\ipykernel_14116\\2631456299.py:10: UserWarning: This pattern is interpreted as a regular expression, and has match groups. To actually get the groups, use str.extract.\n",
      "  df = df[~df['skill_name'].str.contains(r'(削除)')]\n"
     ]
    }
   ],
   "source": [
    "response = requests.get(url_list[1])\n",
    "soup = BeautifulSoup(response.content, 'html.parser')\n",
    "table = soup.select('table')[2]\n",
    "df = pd.read_html(str(table))[0]\n",
    "df.columns = df.iloc[0]  # ヘッダーを設定\n",
    "df = df[1:]  # 1行目を削除\n",
    "df.columns.values[0] = 'skill_name'\n",
    "df.columns.values[1] = 'proficiency_level'\n",
    "#df.columns.values[2] = 'town'\n",
    "df = df[~df['skill_name'].str.contains(r'(削除)')]\n",
    "df_7 = df.drop(columns=['技 能 Lv', '条件', '料金'])\n",
    "df_list.append(df_7)"
   ]
  },
  {
   "cell_type": "code",
   "execution_count": 4,
   "metadata": {},
   "outputs": [
    {
     "name": "stderr",
     "output_type": "stream",
     "text": [
      "C:\\Users\\Shougo Matsumoto\\AppData\\Local\\Temp\\ipykernel_14116\\3599555438.py:4: FutureWarning: Passing literal html to 'read_html' is deprecated and will be removed in a future version. To read from a literal string, wrap it in a 'StringIO' object.\n",
      "  df = pd.read_html(str(table))[0]\n",
      "C:\\Users\\Shougo Matsumoto\\AppData\\Local\\Temp\\ipykernel_14116\\3599555438.py:10: UserWarning: This pattern is interpreted as a regular expression, and has match groups. To actually get the groups, use str.extract.\n",
      "  df = df[~df['skill_name'].str.contains(r'(削除)')]\n"
     ]
    }
   ],
   "source": [
    "response = requests.get(url_list[2])\n",
    "soup = BeautifulSoup(response.content, 'html.parser')\n",
    "table = soup.select('table')[1]\n",
    "df = pd.read_html(str(table))[0]\n",
    "df.columns = df.iloc[0]  # ヘッダーを設定\n",
    "df = df[1:]  # 1行目を削除\n",
    "df.columns.values[0] = 'skill_name'\n",
    "df.columns.values[1] = 'proficiency_level'\n",
    "#df.columns.values[2] = 'town'\n",
    "df = df[~df['skill_name'].str.contains(r'(削除)')]\n",
    "df_8 = df.drop(columns=['技 能 Lv', '条件', '料金'])\n",
    "df_list.append(df_8)"
   ]
  },
  {
   "cell_type": "code",
   "execution_count": 5,
   "metadata": {},
   "outputs": [],
   "source": [
    "df = pd.concat(df_list, ignore_index=True)"
   ]
  },
  {
   "cell_type": "code",
   "execution_count": 6,
   "metadata": {},
   "outputs": [],
   "source": [
    "df.replace(['熟練者', '達人', '神位'], ['1', '2', '3'], inplace=True)"
   ]
  },
  {
   "cell_type": "code",
   "execution_count": 7,
   "metadata": {},
   "outputs": [],
   "source": [
    "df.replace(jpname_list, enname_list, inplace=True)"
   ]
  },
  {
   "cell_type": "code",
   "execution_count": 8,
   "metadata": {},
   "outputs": [
    {
     "name": "stderr",
     "output_type": "stream",
     "text": [
      "PandasGUI INFO — pandasgui.gui — Opening PandasGUI\n",
      "C:\\Users\\Shougo Matsumoto\\AppData\\Local\\Temp\\ipykernel_14116\\1986309750.py:3: FutureWarning: Series.__getitem__ treating keys as positions is deprecated. In a future version, integer keys will always be treated as labels (consistent with DataFrame behavior). To access a value by position, use `ser.iloc[pos]`\n",
      "  show(df)\n",
      "C:\\Users\\Shougo Matsumoto\\AppData\\Local\\Temp\\ipykernel_14116\\1986309750.py:3: FutureWarning: Series.__getitem__ treating keys as positions is deprecated. In a future version, integer keys will always be treated as labels (consistent with DataFrame behavior). To access a value by position, use `ser.iloc[pos]`\n",
      "  show(df)\n",
      "C:\\Users\\Shougo Matsumoto\\AppData\\Local\\Temp\\ipykernel_14116\\1986309750.py:3: FutureWarning:\n",
      "\n",
      "Series.__getitem__ treating keys as positions is deprecated. In a future version, integer keys will always be treated as labels (consistent with DataFrame behavior). To access a value by position, use `ser.iloc[pos]`\n",
      "\n",
      "C:\\Users\\Shougo Matsumoto\\AppData\\Local\\Temp\\ipykernel_14116\\1986309750.py:3: FutureWarning:\n",
      "\n",
      "Series.__getitem__ treating keys as positions is deprecated. In a future version, integer keys will always be treated as labels (consistent with DataFrame behavior). To access a value by position, use `ser.iloc[pos]`\n",
      "\n",
      "C:\\Users\\Shougo Matsumoto\\AppData\\Local\\Temp\\ipykernel_14116\\1986309750.py:3: FutureWarning:\n",
      "\n",
      "Series.__getitem__ treating keys as positions is deprecated. In a future version, integer keys will always be treated as labels (consistent with DataFrame behavior). To access a value by position, use `ser.iloc[pos]`\n",
      "\n",
      "C:\\Users\\Shougo Matsumoto\\AppData\\Local\\Temp\\ipykernel_14116\\1986309750.py:3: FutureWarning:\n",
      "\n",
      "Series.__getitem__ treating keys as positions is deprecated. In a future version, integer keys will always be treated as labels (consistent with DataFrame behavior). To access a value by position, use `ser.iloc[pos]`\n",
      "\n"
     ]
    },
    {
     "data": {
      "text/plain": [
       "<pandasgui.gui.PandasGui at 0x20d33a12b90>"
      ]
     },
     "execution_count": 8,
     "metadata": {},
     "output_type": "execute_result"
    }
   ],
   "source": [
    "from pandasgui import show\n",
    "\n",
    "show(df)"
   ]
  },
  {
   "cell_type": "code",
   "execution_count": 9,
   "metadata": {},
   "outputs": [],
   "source": [
    "# df.to_csv(path_or_buf=r'C:\\Users\\Shougo Matsumoto\\python-projects\\API test\\results\\test.csv', index=False, encoding='utf-8-sig')"
   ]
  }
 ],
 "metadata": {
  "kernelspec": {
   "display_name": ".venv",
   "language": "python",
   "name": "python3"
  },
  "language_info": {
   "codemirror_mode": {
    "name": "ipython",
    "version": 3
   },
   "file_extension": ".py",
   "mimetype": "text/x-python",
   "name": "python",
   "nbconvert_exporter": "python",
   "pygments_lexer": "ipython3",
   "version": "3.11.4"
  }
 },
 "nbformat": 4,
 "nbformat_minor": 2
}
