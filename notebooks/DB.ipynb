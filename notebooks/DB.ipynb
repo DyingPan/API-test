{
 "cells": [
  {
   "cell_type": "code",
   "execution_count": 1,
   "metadata": {},
   "outputs": [],
   "source": [
    "import sqlite3\n",
    "import csv\n",
    "import json\n",
    "import os\n",
    "import sys\n",
    "from datetime import datetime"
   ]
  },
  {
   "cell_type": "code",
   "execution_count": 2,
   "metadata": {},
   "outputs": [
    {
     "name": "stdout",
     "output_type": "stream",
     "text": [
      "Connected to C:\\Users\\Shougo Matsumoto\\python-projects\\API test\\data\\MM.db\n"
     ]
    }
   ],
   "source": [
    "db_file_path = r'C:\\Users\\Shougo Matsumoto\\python-projects\\API test\\data\\MM.db'\n",
    "\n",
    "if db_file_path:\n",
    "\n",
    "    conn = sqlite3.connect(db_file_path)\n",
    "\n",
    "    cursor = conn.cursor()\n",
    "\n",
    "    print(f\"Connected to {db_file_path}\")\n",
    "\n",
    "else:\n",
    "\n",
    "    print(\"No file selected\")"
   ]
  },
  {
   "cell_type": "code",
   "execution_count": 3,
   "metadata": {},
   "outputs": [
    {
     "ename": "OperationalError",
     "evalue": "near \",\": syntax error",
     "output_type": "error",
     "traceback": [
      "\u001b[1;31m---------------------------------------------------------------------------\u001b[0m",
      "\u001b[1;31mOperationalError\u001b[0m                          Traceback (most recent call last)",
      "Cell \u001b[1;32mIn[3], line 1\u001b[0m\n\u001b[1;32m----> 1\u001b[0m \u001b[43mcursor\u001b[49m\u001b[38;5;241;43m.\u001b[39;49m\u001b[43mexecute\u001b[49m\u001b[43m(\u001b[49m\n\u001b[0;32m      2\u001b[0m \u001b[38;5;250;43m    \u001b[39;49m\u001b[38;5;124;43;03m'''\u001b[39;49;00m\n\u001b[0;32m      3\u001b[0m \n\u001b[0;32m      4\u001b[0m \u001b[38;5;124;43;03m            SELECT * FROM trainer_data WHERE series IN (?)AND skill_name IN (?)AND proficiency_name IN (?), \u001b[39;49;00m\n\u001b[0;32m      5\u001b[0m \n\u001b[0;32m      6\u001b[0m \u001b[38;5;124;43;03m               '''\u001b[39;49;00m\u001b[43m,\u001b[49m\n\u001b[0;32m      7\u001b[0m \u001b[43m    \u001b[49m\u001b[43m[\u001b[49m\u001b[38;5;124;43m\"\u001b[39;49m\u001b[38;5;124;43maxe\u001b[39;49m\u001b[38;5;124;43m\"\u001b[39;49m\u001b[43m,\u001b[49m\u001b[43m \u001b[49m\u001b[38;5;241;43m7\u001b[39;49m\u001b[43m,\u001b[49m\u001b[43m \u001b[49m\u001b[38;5;124;43m\"\u001b[39;49m\u001b[38;5;124;43mmaster\u001b[39;49m\u001b[38;5;124;43m\"\u001b[39;49m\u001b[43m]\u001b[49m\n\u001b[0;32m      8\u001b[0m \u001b[43m)\u001b[49m\n",
      "\u001b[1;31mOperationalError\u001b[0m: near \",\": syntax error"
     ]
    }
   ],
   "source": [
    "cursor.execute(\n",
    "    '''\n",
    "\n",
    "            SELECT * FROM trainer_data WHERE series IN (?)AND skill_name IN (?)AND proficiency_name IN (?), \n",
    "\n",
    "               ''',\n",
    "    [\"axe\", 7, \"master\"]\n",
    ")"
   ]
  },
  {
   "cell_type": "code",
   "execution_count": 48,
   "metadata": {},
   "outputs": [],
   "source": [
    "rows = [row[0] for row in cursor.fetchall()]"
   ]
  },
  {
   "cell_type": "code",
   "execution_count": null,
   "metadata": {},
   "outputs": [],
   "source": [
    "display(rows)"
   ]
  },
  {
   "cell_type": "code",
   "execution_count": null,
   "metadata": {},
   "outputs": [],
   "source": [
    "for row in rows:\n",
    "    display(row[0])"
   ]
  },
  {
   "cell_type": "code",
   "execution_count": 44,
   "metadata": {},
   "outputs": [],
   "source": [
    "conn.close()"
   ]
  },
  {
   "cell_type": "code",
   "execution_count": 21,
   "metadata": {},
   "outputs": [
    {
     "data": {
      "text/plain": [
       "<sqlite3.Cursor at 0x1b44b1618c0>"
      ]
     },
     "execution_count": 21,
     "metadata": {},
     "output_type": "execute_result"
    }
   ],
   "source": [
    "cursor.execute('''\n",
    "               INSERT INTO town \n",
    "                (series, name)\n",
    "               VALUES (6, 'Ironfist')\n",
    "               ''')"
   ]
  },
  {
   "cell_type": "code",
   "execution_count": 4,
   "metadata": {},
   "outputs": [],
   "source": [
    "csv_file_path = r'C:\\Users\\Shougo Matsumoto\\python-projects\\API test\\data\\trainer.csv'\n",
    "with open(csv_file_path, 'r', encoding='utf-8') as csvfile:\n",
    "    csvreader = csv.reader(csvfile)\n",
    "    header = next(csvreader)\n",
    "    for row in csvreader:\n",
    "        cursor.execute(\n",
    "            '''\n",
    "                    INSERT INTO \n",
    "                        trainer (\n",
    "                            id, series, skill_id, proficiency_id, town_id\n",
    "                        )\n",
    "                    VALUES (?, ?, ?, ?, ?)\n",
    "        ''', row\n",
    "        )"
   ]
  },
  {
   "cell_type": "code",
   "execution_count": 3,
   "metadata": {},
   "outputs": [
    {
     "data": {
      "text/plain": [
       "<sqlite3.Cursor at 0x272376e54c0>"
      ]
     },
     "execution_count": 3,
     "metadata": {},
     "output_type": "execute_result"
    }
   ],
   "source": [
    "cursor.execute('''\n",
    "                SELECT\n",
    "                    CS.skill_name,\n",
    "                    CP.proficiency_name,\n",
    "                    name_jp\n",
    "                FROM\n",
    "                    trainer AS T\n",
    "                LEFT OUTER JOIN\n",
    "                    code_skill AS CS\n",
    "                ON\n",
    "                    T.skill_id = CS.id\n",
    "                LEFT OUTER JOIN\n",
    "                    code_proficiency AS CP\n",
    "                ON\n",
    "                    T.proficiency_id = CP.id\n",
    "                LEFT OUTER JOIN\n",
    "                    code_town AS CT\n",
    "                ON\n",
    "                    T.town_id = CT.id\n",
    "'''\n",
    ")"
   ]
  },
  {
   "cell_type": "code",
   "execution_count": 4,
   "metadata": {},
   "outputs": [],
   "source": [
    "rows = cursor.fetchall()"
   ]
  },
  {
   "cell_type": "code",
   "execution_count": 20,
   "metadata": {},
   "outputs": [],
   "source": [
    "data_list = [json.loads(row[0]) for row in rows]"
   ]
  },
  {
   "cell_type": "code",
   "execution_count": 21,
   "metadata": {},
   "outputs": [],
   "source": [
    "csv_file_path = r'C:\\Users\\Shougo Matsumoto\\python-projects\\jbch_advantech_merged\\results\\Test_Results.csv'"
   ]
  },
  {
   "cell_type": "code",
   "execution_count": 22,
   "metadata": {},
   "outputs": [],
   "source": [
    "if data_list:\n",
    "    with open(csv_file_path, 'w', newline='', encoding='utf-8-sig') as csvfile:\n",
    "        fieldnames = data_list[0].keys()\n",
    "        csvwriter = csv.DictWriter(csvfile, fieldnames=fieldnames)\n",
    "        csvwriter.writeheader()\n",
    "        csvwriter.writerows(data_list)"
   ]
  },
  {
   "cell_type": "code",
   "execution_count": null,
   "metadata": {},
   "outputs": [],
   "source": [
    "'''SELECT\n",
    "    CS.skill_name,\n",
    "    CP.proficiency_name,\n",
    "    name_jp\n",
    "FROM\n",
    "    trainer AS T\n",
    "LEFT OUTER JOIN\n",
    "    code_skill AS CS\n",
    "ON\n",
    "    T.skill_id = CS.id\n",
    "LEFT OUTER JOIN\n",
    "    code_proficiency AS CP\n",
    "ON\n",
    "    T.proficiency_id = CP.id\n",
    "LEFT OUTER JOIN\n",
    "    code_town AS CT\n",
    "ON\n",
    "    T.town_id = CT.id\n",
    "    '''"
   ]
  },
  {
   "cell_type": "code",
   "execution_count": 5,
   "metadata": {},
   "outputs": [],
   "source": [
    "conn.commit()"
   ]
  },
  {
   "cell_type": "code",
   "execution_count": 6,
   "metadata": {},
   "outputs": [],
   "source": [
    "conn.close()"
   ]
  }
 ],
 "metadata": {
  "kernelspec": {
   "display_name": ".venv",
   "language": "python",
   "name": "python3"
  },
  "language_info": {
   "codemirror_mode": {
    "name": "ipython",
    "version": 3
   },
   "file_extension": ".py",
   "mimetype": "text/x-python",
   "name": "python",
   "nbconvert_exporter": "python",
   "pygments_lexer": "ipython3",
   "version": "3.11.4"
  }
 },
 "nbformat": 4,
 "nbformat_minor": 2
}
