{
 "cells": [
  {
   "cell_type": "code",
   "execution_count": 5,
   "metadata": {},
   "outputs": [
    {
     "name": "stdout",
     "output_type": "stream",
     "text": [
      "^C\n"
     ]
    }
   ],
   "source": [
    "!streamlit run streamTEST.py"
   ]
  },
  {
   "cell_type": "code",
   "execution_count": 2,
   "metadata": {},
   "outputs": [
    {
     "name": "stdout",
     "output_type": "stream",
     "text": [
      "Installing streamlit_jupyter...\n",
      "Resolving streamlit_jupyter...\n",
      "[    ] Installing...\n",
      "Added streamlit-jupyter to Pipfile's [packages] ...\n",
      "[    ] Installing streamlit_jupyter...\n",
      "Installation Succeeded\n",
      "[    ] Installing streamlit_jupyter...\n",
      "[    ] Installing streamlit_jupyter...\n",
      "\n",
      "Building requirements...\n",
      "[    ] Locking...\n",
      "Resolving dependencies...\n",
      "[    ] Locking...\n",
      "[    ] Locking...\n",
      "[==  ] Locking...\n",
      "[=== ] Locking...\n",
      "[ ===] Locking...\n",
      "[  ==] Locking...\n",
      "[   =] Locking...\n",
      "[    ] Locking...\n",
      "[   =] Locking...\n",
      "[  ==] Locking...\n",
      "[ ===] Locking...\n",
      "[====] Locking...\n",
      "[=== ] Locking...\n",
      "[==  ] Locking...\n",
      "[=   ] Locking...\n",
      "[    ] Locking...\n",
      "[=   ] Locking...\n",
      "[==  ] Locking...\n",
      "[=== ] Locking...\n",
      "[ ===] Locking...\n",
      "[  ==] Locking...\n",
      "[   =] Locking...\n",
      "[    ] Locking...\n",
      "[  ==] Locking...\n",
      "[ ===] Locking...\n",
      "[ ===] Locking...\n",
      "[====] Locking...\n",
      "[==  ] Locking...\n",
      "[=   ] Locking...\n",
      "[    ] Locking...\n",
      "[=   ] Locking...\n",
      "[==  ] Locking...\n",
      "[=== ] Locking...\n",
      "[ ===] Locking...\n",
      "[  ==] Locking...\n",
      "[   =] Locking...\n",
      "[    ] Locking...\n",
      "[   =] Locking...\n",
      "[  ==] Locking...\n",
      "[ ===] Locking...\n",
      "[====] Locking...\n",
      "[=== ] Locking...\n",
      "[==  ] Locking...\n",
      "[=   ] Locking...\n",
      "[    ] Locking...\n",
      "[=   ] Locking...\n",
      "[==  ] Locking...\n",
      "[=== ] Locking...\n",
      "[  ==] Locking...\n",
      "[  ==] Locking...\n",
      "[   =] Locking...\n",
      "[   =] Locking...\n",
      "[  ==] Locking...\n",
      "[ ===] Locking...\n",
      "[====] Locking...\n",
      "[=== ] Locking...\n",
      "[==  ] Locking...\n",
      "[=   ] Locking...\n",
      "[    ] Locking...\n",
      "[=   ] Locking...\n",
      "[==  ] Locking...\n",
      "[=== ] Locking...\n",
      "[ ===] Locking...\n",
      "[  ==] Locking...\n",
      "[   =] Locking...\n",
      "[    ] Locking...\n",
      "[   =] Locking...\n",
      "[  ==] Locking...\n",
      "[ ===] Locking...\n",
      "[====] Locking...\n",
      "[=== ] Locking...\n",
      "[==  ] Locking...\n",
      "[    ] Locking...\n",
      "[    ] Locking...\n",
      "[==  ] Locking...\n",
      "[=== ] Locking...\n",
      "[ ===] Locking...\n",
      "[  ==] Locking...\n",
      "[   =] Locking...\n",
      "[    ] Locking...\n",
      "[   =] Locking...\n",
      "[  ==] Locking...\n",
      "[ ===] Locking...\n",
      "[====] Locking...\n",
      "[=== ] Locking...\n",
      "[==  ] Locking...\n",
      "[=   ] Locking...\n",
      "[    ] Locking...\n",
      "[=   ] Locking...\n",
      "[==  ] Locking...\n",
      "[=== ] Locking...\n",
      "[ ===] Locking...\n",
      "[  ==] Locking...\n",
      "[   =] Locking...\n",
      "[    ] Locking...\n",
      "[   =] Locking...\n",
      "[ ===] Locking...\n",
      "[ ===] Locking...\n",
      "[=== ] Locking...\n",
      "[==  ] Locking...\n",
      "[=   ] Locking...\n",
      "[    ] Locking...\n",
      "[=   ] Locking...\n",
      "[==  ] Locking...\n",
      "[=== ] Locking...\n",
      "[ ===] Locking...\n",
      "[  ==] Locking...\n",
      "[   =] Locking...\n",
      "[    ] Locking...\n",
      "[   =] Locking...\n",
      "[  ==] Locking...\n",
      "[ ===] Locking...\n",
      "[====] Locking...\n",
      "[=== ] Locking...\n",
      "[==  ] Locking...\n",
      "[=   ] Locking...\n",
      "[    ] Locking...\n",
      "[=   ] Locking...\n",
      "[==  ] Locking...\n",
      "[=== ] Locking...\n",
      "[  ==] Locking...\n",
      "[  ==] Locking...\n",
      "[   =] Locking...\n",
      "[   =] Locking...\n",
      "[  ==] Locking...\n",
      "[ ===] Locking...\n",
      "[====] Locking...\n",
      "[=== ] Locking...\n",
      "[==  ] Locking...\n",
      "[=   ] Locking...\n",
      "[    ] Locking...\n",
      "[=   ] Locking...\n",
      "[==  ] Locking...\n",
      "[=== ] Locking...\n",
      "[ ===] Locking...\n",
      "[  ==] Locking...\n",
      "[   =] Locking...\n",
      "[    ] Locking...\n",
      "[   =] Locking...\n",
      "[  ==] Locking...\n",
      "[ ===] Locking...\n",
      "[=== ] Locking...\n",
      "[==  ] Locking...\n",
      "[=   ] Locking...\n",
      "[    ] Locking...\n",
      "[=   ] Locking...\n",
      "[==  ] Locking...\n",
      "[=== ] Locking...\n",
      "[ ===] Locking...\n",
      "[  ==] Locking...\n",
      "[   =] Locking...\n",
      "[    ] Locking...\n",
      "[   =] Locking...\n",
      "[  ==] Locking...\n",
      "[ ===] Locking...\n",
      "[====] Locking...\n",
      "[=== ] Locking...\n",
      "[==  ] Locking...\n",
      "[=   ] Locking...\n",
      "[    ] Locking...\n",
      "[=   ] Locking...\n",
      "[==  ] Locking...\n",
      "[=== ] Locking...\n",
      "[ ===] Locking...\n",
      "[  ==] Locking...\n",
      "[    ] Locking...\n",
      "[   =] Locking...\n",
      "[  ==] Locking...\n",
      "[ ===] Locking...\n",
      "[====] Locking...\n",
      "[=== ] Locking...\n",
      "[==  ] Locking...\n",
      "[=   ] Locking...\n",
      "[    ] Locking...\n",
      "[=   ] Locking...\n",
      "[==  ] Locking...\n",
      "[=== ] Locking...\n",
      "[ ===] Locking...\n",
      "[  ==] Locking...\n",
      "[   =] Locking...\n",
      "[    ] Locking...\n",
      "[   =] Locking...\n",
      "[  ==] Locking...\n",
      "[ ===] Locking...\n",
      "[====] Locking...\n",
      "[=== ] Locking...\n",
      "[==  ] Locking...\n",
      "[=   ] Locking...\n",
      "[    ] Locking...\n",
      "[==  ] Locking...\n",
      "[=== ] Locking...\n",
      "[ ===] Locking...\n",
      "[  ==] Locking...\n",
      "[   =] Locking...\n",
      "[   =] Locking...\n",
      "[  ==] Locking...\n",
      "[ ===] Locking...\n",
      "[====] Locking...\n",
      "[=== ] Locking...\n",
      "[==  ] Locking...\n",
      "[=   ] Locking...\n",
      "[    ] Locking...\n",
      "[=   ] Locking...\n",
      "[=== ] Locking...\n",
      "[ ===] Locking...\n",
      "[  ==] Locking...\n",
      "[   =] Locking...\n",
      "[    ] Locking...\n",
      "[   =] Locking...\n",
      "[  ==] Locking...\n",
      "[ ===] Locking...\n",
      "[====] Locking...\n",
      "[=== ] Locking...\n",
      "[==  ] Locking...\n",
      "[=   ] Locking...\n",
      "[    ] Locking...\n",
      "[=   ] Locking...\n",
      "[==  ] Locking...\n",
      "[=== ] Locking...\n",
      "[ ===] Locking...\n",
      "[  ==] Locking...\n",
      "[   =] Locking...\n",
      "[    ] Locking...\n",
      "[   =] Locking...\n",
      "[  ==] Locking...\n",
      "[ ===] Locking...\n",
      "[====] Locking...\n",
      "[==  ] Locking...\n",
      "[=   ] Locking...\n",
      "[    ] Locking...\n",
      "[=   ] Locking...\n",
      "[==  ] Locking...\n",
      "[=== ] Locking...\n",
      "[ ===] Locking...\n",
      "[  ==] Locking...\n",
      "[   =] Locking...\n",
      "[    ] Locking...\n",
      "[   =] Locking...\n",
      "[  ==] Locking...\n",
      "[ ===] Locking...\n",
      "[====] Locking...\n",
      "[=== ] Locking...\n",
      "[==  ] Locking...\n",
      "[=   ] Locking...\n",
      "[    ] Locking...\n",
      "[=   ] Locking...\n",
      "[==  ] Locking...\n",
      "[=== ] Locking...\n",
      "[ ===] Locking...\n",
      "[  ==] Locking...\n",
      "[   =] Locking...\n",
      "[   =] Locking...\n",
      "[  ==] Locking...\n",
      "[ ===] Locking...\n",
      "[====] Locking...\n",
      "[=== ] Locking...\n",
      "[==  ] Locking...\n",
      "[=   ] Locking...\n",
      "[    ] Locking...\n",
      "[=   ] Locking...\n",
      "[==  ] Locking...\n",
      "[=== ] Locking...\n",
      "[ ===] Locking...\n",
      "[  ==] Locking...\n",
      "[   =] Locking...\n",
      "[    ] Locking...\n",
      "[   =] Locking...\n",
      "[  ==] Locking...\n",
      "[ ===] Locking...\n",
      "[====] Locking...\n",
      "[=== ] Locking...\n",
      "[==  ] Locking...\n",
      "[=   ] Locking...\n",
      "[    ] Locking...\n",
      "[=   ] Locking...\n",
      "[=== ] Locking...\n",
      "[ ===] Locking...\n",
      "[  ==] Locking...\n",
      "[   =] Locking...\n",
      "[    ] Locking...\n",
      "[   =] Locking...\n",
      "[  ==] Locking...\n",
      "[ ===] Locking...\n",
      "[====] Locking...\n",
      "[=== ] Locking...\n",
      "[==  ] Locking...\n",
      "[=   ] Locking...\n",
      "[    ] Locking...\n",
      "[=   ] Locking...\n",
      "[==  ] Locking...\n",
      "[=== ] Locking...\n",
      "[ ===] Locking...\n",
      "[  ==] Locking...\n",
      "[   =] Locking...\n",
      "[    ] Locking...\n",
      "[   =] Locking...\n",
      "[ ===] Locking...\n",
      "[====] Locking...\n",
      "[=== ] Locking...\n",
      "[==  ] Locking...\n",
      "[=   ] Locking...\n",
      "[    ] Locking...\n",
      "[=   ] Locking...\n",
      "[==  ] Locking...\n",
      "[=== ] Locking...\n",
      "[ ===] Locking...\n",
      "[  ==] Locking...\n",
      "[   =] Locking...\n",
      "[    ] Locking...\n",
      "[   =] Locking...\n",
      "[ ===] Locking...\n",
      "[ ===] Locking...\n",
      "[====] Locking...\n",
      "[=== ] Locking...\n",
      "[=   ] Locking...\n",
      "[    ] Locking...\n",
      "[=   ] Locking...\n",
      "[==  ] Locking...\n",
      "[=== ] Locking...\n",
      "[ ===] Locking...\n",
      "[  ==] Locking...\n",
      "[   =] Locking...\n",
      "[    ] Locking...\n",
      "[   =] Locking...\n",
      "[  ==] Locking...\n",
      "[ ===] Locking...\n",
      "[====] Locking...\n",
      "[=== ] Locking...\n",
      "[==  ] Locking...\n",
      "[=   ] Locking...\n",
      "[    ] Locking...\n",
      "[=   ] Locking...\n",
      "[==  ] Locking...\n",
      "[=== ] Locking...\n",
      "[ ===] Locking...\n",
      "[  ==] Locking...\n",
      "[   =] Locking...\n",
      "[    ] Locking...\n",
      "[  ==] Locking...\n",
      "[ ===] Locking...\n",
      "[====] Locking...\n",
      "[=== ] Locking...\n",
      "[==  ] Locking...\n",
      "[=   ] Locking...\n",
      "[    ] Locking...\n",
      "[=   ] Locking...\n",
      "[==  ] Locking...\n",
      "[=== ] Locking...\n",
      "[ ===] Locking...\n",
      "[  ==] Locking...\n",
      "[   =] Locking...\n",
      "[    ] Locking...\n",
      "[   =] Locking...\n",
      "[  ==] Locking...\n",
      "[ ===] Locking...\n",
      "[====] Locking...\n",
      "[=== ] Locking...\n",
      "[==  ] Locking...\n",
      "[=   ] Locking...\n",
      "[    ] Locking...\n",
      "[=   ] Locking...\n",
      "[==  ] Locking...\n",
      "[ ===] Locking...\n",
      "[  ==] Locking...\n",
      "[   =] Locking...\n",
      "[    ] Locking...\n",
      "[   =] Locking...\n",
      "[  ==] Locking...\n",
      "[ ===] Locking...\n",
      "[====] Locking...\n",
      "[=== ] Locking...\n",
      "[==  ] Locking...\n",
      "[=   ] Locking...\n",
      "[    ] Locking...\n",
      "[=   ] Locking...\n",
      "[==  ] Locking...\n",
      "[=== ] Locking...\n",
      "[ ===] Locking...\n",
      "[  ==] Locking...\n",
      "Success!\n",
      "[   =] Locking...\n",
      "[   =] Locking...\n",
      "\n",
      "Building requirements...\n",
      "[    ] Locking...\n",
      "Resolving dependencies...\n",
      "[    ] Locking...\n",
      "[    ] Locking...\n",
      "[=   ] Locking...\n",
      "[=== ] Locking...\n",
      "[ ===] Locking...\n",
      "[  ==] Locking...\n",
      "[   =] Locking...\n",
      "[    ] Locking...\n",
      "[   =] Locking...\n",
      "[  ==] Locking...\n",
      "[ ===] Locking...\n",
      "[====] Locking...\n",
      "[=== ] Locking...\n",
      "[==  ] Locking...\n",
      "[=   ] Locking...\n",
      "[    ] Locking...\n",
      "[=   ] Locking...\n",
      "[==  ] Locking...\n",
      "[=== ] Locking...\n",
      "[ ===] Locking...\n",
      "[  ==] Locking...\n",
      "[    ] Locking...\n",
      "[   =] Locking...\n",
      "[  ==] Locking...\n",
      "[ ===] Locking...\n",
      "[====] Locking...\n",
      "[=== ] Locking...\n",
      "[==  ] Locking...\n",
      "[=   ] Locking...\n",
      "[    ] Locking...\n",
      "[=   ] Locking...\n",
      "[==  ] Locking...\n",
      "[=== ] Locking...\n",
      "[ ===] Locking...\n",
      "[  ==] Locking...\n",
      "[   =] Locking...\n",
      "[    ] Locking...\n",
      "[   =] Locking...\n",
      "[  ==] Locking...\n",
      "[ ===] Locking...\n",
      "[====] Locking...\n",
      "[=== ] Locking...\n",
      "[==  ] Locking...\n",
      "[=   ] Locking...\n",
      "[    ] Locking...\n",
      "[==  ] Locking...\n",
      "[=== ] Locking...\n",
      "[ ===] Locking...\n",
      "[  ==] Locking...\n",
      "[   =] Locking...\n",
      "[    ] Locking...\n",
      "[   =] Locking...\n",
      "[  ==] Locking...\n",
      "[ ===] Locking...\n",
      "[====] Locking...\n",
      "[=== ] Locking...\n",
      "[==  ] Locking...\n",
      "[=   ] Locking...\n",
      "[    ] Locking...\n",
      "[=   ] Locking...\n",
      "[==  ] Locking...\n",
      "[=== ] Locking...\n",
      "[ ===] Locking...\n",
      "[  ==] Locking...\n",
      "[   =] Locking...\n",
      "[    ] Locking...\n",
      "[   =] Locking...\n",
      "Success!\n",
      "[  ==] Locking...\n",
      "[  ==] Locking...\n",
      "\n",
      "Installing dependencies from Pipfile.lock (6bfee1)...\n",
      "To activate this project's virtualenv, run pipenv shell.\n",
      "Alternatively, run a command inside the virtualenv with pipenv run.\n"
     ]
    },
    {
     "name": "stderr",
     "output_type": "stream",
     "text": [
      "Courtesy Notice: Pipenv found itself running within a virtual environment, so it will automatically use that environment, instead of creating its own for any project. You can set PIPENV_IGNORE_VIRTUALENVS=1 to force pipenv to ignore that environment and create its own instead. You can set PIPENV_VERBOSITY=-1 to suppress this warning.\n",
      "Pipfile.lock (b35b67) out of date, updating to (6bfee1)...\n",
      "Locking [packages] dependencies...\n",
      "Locking [dev-packages] dependencies...\n",
      "Updated Pipfile.lock (24424f6fd2c3ed94fbbb4635f676a30abf4007ed2e3d182b53324031456bfee1)!\n"
     ]
    }
   ],
   "source": [
    "!pipenv install streamlit_jupyter"
   ]
  },
  {
   "cell_type": "code",
   "execution_count": 1,
   "metadata": {},
   "outputs": [
    {
     "ename": "ModuleNotFoundError",
     "evalue": "No module named 'streamlit_jupyter'",
     "output_type": "error",
     "traceback": [
      "\u001b[1;31m---------------------------------------------------------------------------\u001b[0m",
      "\u001b[1;31mModuleNotFoundError\u001b[0m                       Traceback (most recent call last)",
      "Cell \u001b[1;32mIn[1], line 2\u001b[0m\n\u001b[0;32m      1\u001b[0m \u001b[38;5;28;01mimport\u001b[39;00m \u001b[38;5;21;01mstreamlit\u001b[39;00m \u001b[38;5;28;01mas\u001b[39;00m \u001b[38;5;21;01mst\u001b[39;00m\n\u001b[1;32m----> 2\u001b[0m \u001b[38;5;28;01mfrom\u001b[39;00m \u001b[38;5;21;01mstreamlit_jupyter\u001b[39;00m \u001b[38;5;28;01mimport\u001b[39;00m StreamlitPatcher, tqdm\n\u001b[0;32m      4\u001b[0m StreamlitPatcher()\u001b[38;5;241m.\u001b[39mjupyter()  \u001b[38;5;66;03m# register streamlit with jupyter-compatible wrappers\u001b[39;00m\n",
      "\u001b[1;31mModuleNotFoundError\u001b[0m: No module named 'streamlit_jupyter'"
     ]
    }
   ],
   "source": [
    "import streamlit as st\n",
    "from streamlit_jupyter import StreamlitPatcher, tqdm\n",
    "\n",
    "StreamlitPatcher().jupyter()  # register streamlit with jupyter-compatible wrappers"
   ]
  },
  {
   "cell_type": "code",
   "execution_count": 9,
   "metadata": {},
   "outputs": [
    {
     "data": {
      "application/vnd.jupyter.widget-view+json": {
       "model_id": "463140e502fb4d3facfd98aed1c78916",
       "version_major": 2,
       "version_minor": 0
      },
      "text/plain": [
       "SelectMultiple(description='好きな色', options=('赤', '青', '黄'), value=())"
      ]
     },
     "metadata": {},
     "output_type": "display_data"
    },
    {
     "data": {
      "text/plain": [
       "()"
      ]
     },
     "metadata": {},
     "output_type": "display_data"
    },
    {
     "data": {
      "application/vnd.jupyter.widget-view+json": {
       "model_id": "d422c577110e4f2ab34678c36510c9bb",
       "version_major": 2,
       "version_minor": 0
      },
      "text/plain": [
       "RadioButtons(description='選択', options=('猫', '犬'), value='猫')"
      ]
     },
     "metadata": {},
     "output_type": "display_data"
    },
    {
     "data": {
      "text/markdown": [
       "ラジオ：猫"
      ],
      "text/plain": [
       "<IPython.core.display.Markdown object>"
      ]
     },
     "metadata": {},
     "output_type": "display_data"
    }
   ],
   "source": [
    "multi_select = st.multiselect(\"好きな色\",options=[\"赤\",\"青\",\"黄\"])\n",
    "st.write(multi_select)\n",
    "radio = st.radio(\"選択\", [\"猫\", \"犬\"])\n",
    "st.write(f\"ラジオ：{radio}\")"
   ]
  },
  {
   "cell_type": "code",
   "execution_count": 10,
   "metadata": {},
   "outputs": [
    {
     "data": {
      "text/markdown": [
       "列1"
      ],
      "text/plain": [
       "<IPython.core.display.Markdown object>"
      ]
     },
     "metadata": {},
     "output_type": "display_data"
    },
    {
     "data": {
      "text/markdown": [
       "列2"
      ],
      "text/plain": [
       "<IPython.core.display.Markdown object>"
      ]
     },
     "metadata": {},
     "output_type": "display_data"
    },
    {
     "data": {
      "text/markdown": [
       "タブ1"
      ],
      "text/plain": [
       "<IPython.core.display.Markdown object>"
      ]
     },
     "metadata": {},
     "output_type": "display_data"
    },
    {
     "data": {
      "text/markdown": [
       "タブ2"
      ],
      "text/plain": [
       "<IPython.core.display.Markdown object>"
      ]
     },
     "metadata": {},
     "output_type": "display_data"
    },
    {
     "data": {
      "text/markdown": [
       ">**expander starts**: 開きます"
      ],
      "text/plain": [
       "<IPython.core.display.Markdown object>"
      ]
     },
     "metadata": {},
     "output_type": "display_data"
    },
    {
     "data": {
      "text/markdown": [
       "開きました"
      ],
      "text/plain": [
       "<IPython.core.display.Markdown object>"
      ]
     },
     "metadata": {},
     "output_type": "display_data"
    },
    {
     "data": {
      "text/markdown": [
       ">**expander ends**"
      ],
      "text/plain": [
       "<IPython.core.display.Markdown object>"
      ]
     },
     "metadata": {},
     "output_type": "display_data"
    },
    {
     "data": {
      "text/markdown": [
       "サイドバー内に表示されます"
      ],
      "text/plain": [
       "<IPython.core.display.Markdown object>"
      ]
     },
     "metadata": {},
     "output_type": "display_data"
    }
   ],
   "source": [
    "# ワイドレイアウト\n",
    "st.set_page_config(layout=\"wide\")\n",
    "\n",
    "# 横に並べる\n",
    "cols = st.columns(2)\n",
    "with cols[0]:\n",
    "    st.write(\"列1\")\n",
    "with cols[1]:\n",
    "    st.write(\"列2\")\n",
    "\n",
    "# タブ\n",
    "tabs = st.tabs([\"タブ1\",\"タブ2\"])\n",
    "with tabs[0]:\n",
    "    st.write(\"タブ1\")\n",
    "with tabs[1]:\n",
    "    st.write(\"タブ2\")\n",
    "    \n",
    "# アコーディオン\n",
    "with st.expander(\"開きます\"):\n",
    "    st.write(\"開きました\")\n",
    "\n",
    "# サイドバー\n",
    "with st.sidebar:\n",
    "    st.write(\"サイドバー内に表示されます\")\n"
   ]
  }
 ],
 "metadata": {
  "kernelspec": {
   "display_name": "base",
   "language": "python",
   "name": "python3"
  },
  "language_info": {
   "codemirror_mode": {
    "name": "ipython",
    "version": 3
   },
   "file_extension": ".py",
   "mimetype": "text/x-python",
   "name": "python",
   "nbconvert_exporter": "python",
   "pygments_lexer": "ipython3",
   "version": "3.11.4"
  }
 },
 "nbformat": 4,
 "nbformat_minor": 2
}
